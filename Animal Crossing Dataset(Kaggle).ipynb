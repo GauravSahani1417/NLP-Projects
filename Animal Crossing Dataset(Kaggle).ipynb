{
 "cells": [
  {
   "cell_type": "code",
   "execution_count": 1,
   "metadata": {},
   "outputs": [],
   "source": [
    "import pandas as pd"
   ]
  },
  {
   "cell_type": "code",
   "execution_count": 2,
   "metadata": {},
   "outputs": [
    {
     "data": {
      "text/html": [
       "<div>\n",
       "<style scoped>\n",
       "    .dataframe tbody tr th:only-of-type {\n",
       "        vertical-align: middle;\n",
       "    }\n",
       "\n",
       "    .dataframe tbody tr th {\n",
       "        vertical-align: top;\n",
       "    }\n",
       "\n",
       "    .dataframe thead th {\n",
       "        text-align: right;\n",
       "    }\n",
       "</style>\n",
       "<table border=\"1\" class=\"dataframe\">\n",
       "  <thead>\n",
       "    <tr style=\"text-align: right;\">\n",
       "      <th></th>\n",
       "      <th>grade</th>\n",
       "      <th>publication</th>\n",
       "      <th>text</th>\n",
       "      <th>date</th>\n",
       "    </tr>\n",
       "  </thead>\n",
       "  <tbody>\n",
       "    <tr>\n",
       "      <th>0</th>\n",
       "      <td>100</td>\n",
       "      <td>Pocket Gamer UK</td>\n",
       "      <td>Animal Crossing; New Horizons, much like its p...</td>\n",
       "      <td>2020-03-16</td>\n",
       "    </tr>\n",
       "    <tr>\n",
       "      <th>1</th>\n",
       "      <td>100</td>\n",
       "      <td>Forbes</td>\n",
       "      <td>Know that if you’re overwhelmed with the world...</td>\n",
       "      <td>2020-03-16</td>\n",
       "    </tr>\n",
       "    <tr>\n",
       "      <th>2</th>\n",
       "      <td>100</td>\n",
       "      <td>Telegraph</td>\n",
       "      <td>With a game this broad and lengthy, there’s mo...</td>\n",
       "      <td>2020-03-16</td>\n",
       "    </tr>\n",
       "    <tr>\n",
       "      <th>3</th>\n",
       "      <td>100</td>\n",
       "      <td>VG247</td>\n",
       "      <td>Animal Crossing: New Horizons is everything I ...</td>\n",
       "      <td>2020-03-16</td>\n",
       "    </tr>\n",
       "    <tr>\n",
       "      <th>4</th>\n",
       "      <td>100</td>\n",
       "      <td>Nintendo Insider</td>\n",
       "      <td>Above all else, Animal Crossing: New Horizons ...</td>\n",
       "      <td>2020-03-16</td>\n",
       "    </tr>\n",
       "  </tbody>\n",
       "</table>\n",
       "</div>"
      ],
      "text/plain": [
       "   grade       publication                                               text  \\\n",
       "0    100   Pocket Gamer UK  Animal Crossing; New Horizons, much like its p...   \n",
       "1    100            Forbes  Know that if you’re overwhelmed with the world...   \n",
       "2    100         Telegraph  With a game this broad and lengthy, there’s mo...   \n",
       "3    100             VG247  Animal Crossing: New Horizons is everything I ...   \n",
       "4    100  Nintendo Insider  Above all else, Animal Crossing: New Horizons ...   \n",
       "\n",
       "         date  \n",
       "0  2020-03-16  \n",
       "1  2020-03-16  \n",
       "2  2020-03-16  \n",
       "3  2020-03-16  \n",
       "4  2020-03-16  "
      ]
     },
     "execution_count": 2,
     "metadata": {},
     "output_type": "execute_result"
    }
   ],
   "source": [
    "df=pd.read_csv('critic.csv')\n",
    "df.head()"
   ]
  },
  {
   "cell_type": "code",
   "execution_count": 5,
   "metadata": {},
   "outputs": [
    {
     "data": {
      "text/plain": [
       "(107, 4)"
      ]
     },
     "execution_count": 5,
     "metadata": {},
     "output_type": "execute_result"
    }
   ],
   "source": [
    "df.shape"
   ]
  },
  {
   "cell_type": "code",
   "execution_count": 9,
   "metadata": {},
   "outputs": [
    {
     "data": {
      "text/plain": [
       "\"Nintendo's comforting life sim is a tranquil haven at a time the world needs it most.\""
      ]
     },
     "execution_count": 9,
     "metadata": {},
     "output_type": "execute_result"
    }
   ],
   "source": [
    "df['text'][6]"
   ]
  },
  {
   "cell_type": "code",
   "execution_count": 10,
   "metadata": {},
   "outputs": [],
   "source": [
    "import re\n",
    "import nltk\n",
    "from nltk.corpus import stopwords\n",
    "from nltk.stem.porter import PorterStemmer\n",
    "ps=PorterStemmer()\n",
    "text=[]"
   ]
  },
  {
   "cell_type": "code",
   "execution_count": 12,
   "metadata": {},
   "outputs": [
    {
     "data": {
      "text/plain": [
       "107"
      ]
     },
     "execution_count": 12,
     "metadata": {},
     "output_type": "execute_result"
    }
   ],
   "source": [
    "len(df)"
   ]
  },
  {
   "cell_type": "code",
   "execution_count": 13,
   "metadata": {},
   "outputs": [],
   "source": [
    "for i in range(0,len(df)):\n",
    "    review=re.sub('[^a-zA-Z]',' ',df['text'][i])\n",
    "    review=review.lower()\n",
    "    review=review.split()\n",
    "    review=[ps.stem(word) for word in review if not word in stopwords.words('english')]\n",
    "    review=' '.join(review)\n",
    "    text.append(review)"
   ]
  },
  {
   "cell_type": "code",
   "execution_count": 16,
   "metadata": {},
   "outputs": [
    {
     "data": {
      "text/plain": [
       "['anim cross new horizon much like predecessor oper outsid boundari game tension ever feel sprint away wasp warmth comfort code find almost anywher els',\n",
       " 'know overwhelm world stuck insid adrift life know look total differ next week get anim cross',\n",
       " 'game broad lengthi discuss could fit one review suffic say game nintendo clearli work incred hard get right shine everi moment wind rustl tree sunset glint water jaunti tune start day fade relax melodi even add dozen much need qualiti life featur hello player customis autosav couch co op eight player onlin play add perfect diy recip chill relax engag life simul ever',\n",
       " 'anim cross new horizon everyth hope would yet anoth stellar releas showcas confid nintendo best excel easili anoth must switch titl least understand embrac anim cross uniqu lazi pace',\n",
       " 'els anim cross new horizon unbeat feel good experi essenti purchas anyon own nintendo switch heartwarm wholesom nintendo deliv meaning chang help structur peac island exist everi day potenti offer someth new thank game mani enjoy invest countless hour bell oh heroic leap across river vault pole never get old',\n",
       " 'anim cross new horizon best game play year immedi cement one gener defin experi fan play year watch season roll unveil true potenti creat',\n",
       " 'nintendo comfort life sim tranquil time world need',\n",
       " 'beauti welcom game everyth anyth want one play year beyond exactli world need right',\n",
       " 'anim cross new horizon take anim cross drag back onto home consol improv upon everi singl facet imagin see chang mould love fan first time player go find lose hour time gather materi creat new furnitur make island undeni everi moment unashamedli bliss excel written charact truli feel aliv island paradis give infinit back put back anim cross new leaf hit shelv year ago creat whole new gener fan mani peopl wonder nintendo could possibl top answer masterpiec well worth wait',\n",
       " 'similar breath wild odyssey reimagin zelda mario new horizon repres excit new mileston anim cross seri truli hand player rein nintendo deliv deepli customis effortlessli joyou experi quit simpli essenti purchas switch owner',\n",
       " 'anim cross new horizon take everyth good anim cross improv ten fold',\n",
       " 'new horizon crown jewel belov anim cross franchis nintendo manag surpass everi expect refin gameplay plethora featur improv visual qualiti life custom',\n",
       " 'anim cross new horizon fantast best anim cross game ever made',\n",
       " 'never play game seri new horizon great start hand alreadi familiar anim cross find good amount nostalgia also pleasant littl news make new adventur worthi live day day',\n",
       " 'anim cross new horizon biggest reinvent seri mechan core gameplay loop also make best entri yet complet new kind anim cross experi retain everyth love previou game spend hour catch fish bug make money pay loan power customis experi ever ador anim cross new horizon quickli becom one play game nintendo switch ever love slow pace social sim like anim cross sim game essenti',\n",
       " 'anim cross new horizon easili win best entri seri titl bring much need new content franchis',\n",
       " 'anim cross ac back new horizon game feel big polish absolut addict nintendo manag creat yet anoth entri seri enough chang without leav behind feel philosophi anim cross',\n",
       " 'anim cross new horizon chang game lot subtli meaning way give depth freedom better flow',\n",
       " 'alway knew anim cross game someth play like minut day grab fruit chat neighbor call day game take whole dang life realli fun way ever even whiff interest franchis anim cross new horizon absolut slam dunk sleep one second',\n",
       " 'start scratch desert island collect resourc help growth form small commun progress get idyl place dream think noth els horizon million player share us vision stori differ deep game someth undoubtedli sensat lover video game experi',\n",
       " 'anim cross new horizon beauti peac offer safe harbour stress everyday life much much see wrong make back seat',\n",
       " 'fulli customiz gameplay game experi chang daili anim cross new horizon perfect companion dream life kept basic principl franchis nintendo introduc great new featur allow even total immers bubbl tranquil whether abil shape island wish customis ever addit craft system keep basic franchis new game fulli meet expect fan even manag convert even skeptic',\n",
       " 'amaz relax gameplay love avail beauti new look new quest craft system great newcom fan seri great see anim cross grow without lose charm',\n",
       " 'anim cross new horizon everyth right jump switch control pleasant craft clear challeng diversifi motiv hobbyist craftsmen long time',\n",
       " 'anim cross new horizon best entri seri far ultim anim cross yet minor flaw noth realli notic qualiti life detail daili routin grab fruit chat neighbor look surpris plu new mechan delight say good thing one reward nintendo experi yet',\n",
       " 'fresh thrill discov uninhabit atol tend fade wild life get cosier craft item build shop incom resid look like villag previou iter larger size wholli reshap island custom vertigin level improv commun interact creat even fertil ecosystem henc anim cross slowli though decidedli stare toward new horizon equip ever updat nookphon',\n",
       " 'new horizon lot see much joy come discov still get kick real time element construct project take day complet take real day time finish variou merchant keep actual store hour littl hook keep excit check back later end session anim cross new horizon someth new experi everi day best built foundat joy earnest rare tradeoff craft fish pole guess worth end',\n",
       " 'anim cross new leaf remain pinnacl seri new horizon bring bunch welcom qualiti life chang terraform island everi whim addit craft burden worri would fact becom fun object work toward effect diversifi usual chore sell bug fish pay never wane debt rascal raccoon real world headlin harrow ever never better time go vacat within anim cross new horizon',\n",
       " 'anim cross new horizon beauti relax titl exactli much offer come month season event new npc charact yet encount reward game take pride littl moment heart warm joy anim cross fan want miss',\n",
       " 'anim cross new horizon deliv front even though know expect game manag surpris meaning way keep play hundr hour localis could better impact fun guarante',\n",
       " 'nintendo switch get anoth must exclus anim cross new horizon deliv expect fan without scare newcom',\n",
       " 'anim cross new horizon perfect island escap draw play day day charm seri previou game gorgeou new graphic diy craft eventu abil remodel island realli creat island settlement dream',\n",
       " 'anim cross back complet entri far full option make virtual world truli make seri feel fresh keep essenc intact',\n",
       " 'anim cross new horizon expand polish next gener reboot classic nintendo game full surpris',\n",
       " 'anim cross final get sequel move franchis forward surprisingli time releas perfect year term gameplay philosophi',\n",
       " 'anim cross new horizon refin technolog evolut last decad experi gather new leaf variou spin titl new game soul alway present franchis never fulli express today remain wait launch hope far sight manag free updat yet confirm microtransact crown titl close conceptu execut perfect',\n",
       " 'continu noth quit like anim cross new horizon prove life old nook yet',\n",
       " 'anim cross new horizon add new custom element tool object activ classic formula game everybodi fan love',\n",
       " 'illus relax island exist anim cross give experi build ever thought pleasant time time seduct way make ultim ac enrich exist hope spend mani day month year',\n",
       " 'anim cross reaffirm import also altern welcom relax space stop relax breath',\n",
       " 'seri manag evolv without betray spirit previou part spend peac day want without pressur possibl new horizon breath fresh air need',\n",
       " 'anim cross new horizon right evolut seri base custom loot craft definit biggest titl ac franchis also conserv one',\n",
       " 'base abl experi want anim cross mani year',\n",
       " 'anim cross new horizon game manag wholeheartedli cathart relax ador everi second play despit legaci flaw clunki menu may vex littl much',\n",
       " 'anim cross debut nintendo switch new horizon game draw heavili user previou titl feedback slow progress comparison',\n",
       " 'nintendo island adventur bore time also tremend recr case unbeliev charm',\n",
       " 'bliss lightheart colour game fill charm humour giggl aloud first time caught black bass describ game metal fish much need sens normalci come time could use littl pick',\n",
       " 'new horizon much anyth realli win anyon get anim cross previous veteran fan interest newcom alik find sweetest wholesom game yet',\n",
       " 'case anim cross dull slogan like game addict becom true utmost pleasur fish plant flower decor hous talk resid island fun even though spend hour new horizon still lot thing seen switch like splendid grind simpli play',\n",
       " 'new horizon pack delight fun rare cross gener appeal desert island theme worri latest entri would stray tradit model fear quickli allevi howev allow new experi prevent seri feel stale almost year debut',\n",
       " 'past game rich cultur commun humour charm reason seri dedic fan base hype alway worri expect may match realiti howev new horizon exce expect everi way prove ideal gateway game mani peopl ad touch magic anim cross new horizon perfect player old new',\n",
       " 'anim cross new horizon game want much franchis demonstr special',\n",
       " 'play new horizon well worth wait game relax enjoy well thought fantast chill fun age right realli need distract chao around us game come perfect time relax hop plane enjoy new life beach wood even river choic',\n",
       " 'anim cross new horizon hit everi checkbox clear handl new horizon nintendo truli care seri understand valu audienc',\n",
       " 'anim cross new horizon easili becom love new daili routin everi day come back discov someth new feel alon even sinlgeplay becom part commun transform tropic island paradis earth forget couch coop though',\n",
       " 'anim cross new horizon simpli ador world full color cute look multitud possibl make absolut awesom extrem gener game craft allow satisfi experi anyth island transform radic leisur exot adventur real piec paradis feel freedom total',\n",
       " 'anim cross new horizon whole new approach seri creat downsid underst great game come togeth overal flow expand nook mile goal diy project live anim friend impress never left without someth could see world improv around thing new horizon could explain better also part free flow futur franchis want even year daili routin hold dear make ador variou element glue game togeth sharpli dial eleven without disagrad newcom',\n",
       " 'anim cross new horizon good entri seri new featur like terraform craft overal revolut sure convinc gamer dislik ip',\n",
       " 'anim cross new horizon could end import game certainli one best cope mechan help peopl recov overcom dark thing around',\n",
       " 'thank new custom possibl lot classic charm mani qol improv anim cross new horizon stand best franchis far game build commun sens differ level someth need present time',\n",
       " 'argu anim cross everyon fan seri look someth juici sink teeth new horizon everyth could ever want franchis',\n",
       " 'never better time new anim cross game arriv cannot fix go world right anim cross new horizon give us joy medit escap mani us desper need right whether young old find someth like love customis dream island abl sit bench beach listen wave noth think sure',\n",
       " 'new horizon great evolut anim cross franchis alway nintendo integr amaz innov formula process made realli weird design decis detract fun',\n",
       " 'need game like anim cross new horizon think perfect mean new element time around come expens made previou titl wonder win charm still full nintendo biggest game good reason everyon look forward absolut delight nintendo deliv',\n",
       " 'play new horizon retreat fairer kinder place even suppos bad guy philanthropist give interest free loan pay leisur anim cross alway pleasur never felt quot essenti issu p',\n",
       " 'anim cross new horizon offer player plethora thing measur pace slow build well lull player cadenc get use basic go full bore still manag relax jaunt solo play near perfect new addit make feel differ previou outing multiplay treat even method feel slightli archaic ultim kind long term game want get addict wealth thing discov',\n",
       " 'quotat forthcom',\n",
       " 'time apart good soul new horizon proof seven year make definit anim cross experi close get anim cross perfect',\n",
       " 'perfect entri point seri newcom warm comfort blanket veteran want favorit seri switch debut',\n",
       " 'addict reward gameplay great multiplay aspect good write huge amount content quit liter best anim cross ever',\n",
       " 'latest anim cross deliv charm laidback fun fan love plu provid structur nifti nook mile system end game glad pick play short burst week month even year',\n",
       " 'anim cross new horizon perfect getaway daili life put player seren world thing matter catch fish arrang furnitur craft system creat sens ownership island also doubl creativ outlet absolut delight refresh experi',\n",
       " 'sometim play video game realli best distract real world look escap idyl place relax quirki anim creativ product chill virtual environ anim cross new horizon right game right time',\n",
       " 'anim cross new horizon easili best anim cross game date life simul immers featur fill customiz date exponenti amplifi charm addict qualiti new leaf must fan seri anyon simpli need distract current state real world',\n",
       " 'new horizon definit anim cross experi much clear rel short amount time spent promis futur holiday updat guarante fan new old return island mani year come',\n",
       " 'anim cross new horizon yet anoth titl clearli see nintendo mark aim entertain succe look distant violenc adrenalin game market offer right perfect match',\n",
       " 'anim cross new horizon premier seri nintendo switch make player feel right home whether newcom experienc one array new element mechan keep formula well anchor seri convent new horizon delight player thank marvel game environ world develop hefti reward pack enough content leav everyon grow attach envelop experi',\n",
       " 'never play anim cross new horizon suck ostens calm island world like noth els seri veteran eagerli surrend whirlpool emerg time next entri seri',\n",
       " 'abl play game famili household may requir bit much multipl switch consol copi game get run great way spend time stuck home spent hour game everi day sinc launch yet come close exhaust seemingli never run thing reason yet pick one definit recommend',\n",
       " 'anim cross alway simpl concept complex featur new horizon toy hammer capac forg univers power player imagin must game librari everi nintendo switch user perfectli exemplifi nintendo idiosyncrasi similar bonsai offer someth care appreci everi singl day',\n",
       " 'new horizon make easi appeal effortless hop back day find someth new expand island even',\n",
       " 'anim cross new horizon refin formula dramat shake still laid back game ultim let player choos go given moment choic still primarili limit exist prior game',\n",
       " 'new horizon slower pace even anim cross game time feel unnecessarili restrict still plenti activ feed next brilliantli reward relentlessli cheer experi new horizon certainli came right time strength particularli comfort right excit see random event await morn glad hard time sure keep come back forese futur',\n",
       " 'anim cross new horizon ultim help better appreci import abl spend time other without pandem one best game grace nintendo switch yet purest engag form eguchi vision unparallel belong mean draw back long time come',\n",
       " 'new horizon near perfect instal ahead th anniversari seri much game nintendo realli push limit seri amount creativ freedom hand player thing let clunki otherwis delight multiplay featur still exactli kind game want stuck home',\n",
       " 'anim cross new horizon end worth wait mainlin entri even omiss issu one island per system streamlin gameplay custom show much seri grown year much easili keep busi craft custom collect month year come',\n",
       " 'new horizon draw familiar anim cross element build upon redecor fun island motif still fairli minimalist liken warm honey tea may simpl subdu still provid relax enjoy experi',\n",
       " 'anim cross new horizon design annoy like convers menu onlin play much good heavili outweigh bad addict gameplay loop abil play howev want anim cross new horizon system seller great game veteran seri newcom gamer non gamer one whole famili enjoy',\n",
       " 'initi littl skeptic anim cross new horizon expect high got bore repetit task howev five hour someth happen game anim cross spirit engulf us real reach switch soon get chanc put us hour check locat island minut time game love intens rather game follow us day suspect case long',\n",
       " 'despit earli frustrat anim cross new horizon game return also life worth revisit time come matur know rule break visit holiday monetari expedit creat hoarder paradis anim cross new horizon let want pace long got bell pay',\n",
       " 'latest anim cross also best full life charm near endless way make island paradis',\n",
       " 'far nicest iter game date guid object option self led tomfooleri wrap much higher definit version familiar rustic meet plushi visual audio motif',\n",
       " 'except game fault speak player even slightest inkl interest check soon possibl',\n",
       " 'two week worth new horizon make us want even sever part day day grind acceler skip much alreadi impress streamlin compar prior entri seri welcom companion consol feel especi home switch whether visit friend wonderland onlin take tropic getaway road check progress first thing morn gather last minut suppli turn night best anim cross ever virtual paradis wonder place escap',\n",
       " 'new horizon alway someth new store exampl way regular fish spot suddenli make acquaint hippi fli island come back great photo issu p',\n",
       " 'addit like terraform craft player capac express custom greater ever coupl huge array neighbor anim form bond well activ partak new horizon keep player busi long time time tough mani right perhap trip digit world enough offer respit storm realiti',\n",
       " 'anim cross new horizon new stop overwhelm citi life open door new life player',\n",
       " 'anim cross new horizon ideal escap harsh realiti earli open window peac calm world everyth wait us exploit modifi creat',\n",
       " 'new horizon great continu alreadi fantast seri game pay back tom nook loan never fun',\n",
       " 'much love anim cross suppos expect lot seen new leaf pocket camp would even throw hand elat gyroid made triumphant return audibl visual furnitur despit minor misgiv lost opportun estim anim cross new horizon deliv island build simul disappoint head island say hi nook',\n",
       " 'consolid much power hand game threaten upend anim cross vision commun live',\n",
       " 'anim cross alway seri everi littl thing lead someth product noth stare sky relax decor hous fun catch critter feel reward never real point anim cross make enjoy everi person enjoy like pace new horizon nail feel ever mani option lot thing collect enjoy easi play short burst often hard stop play idea keep come experiment much fun littl consequ new horizon far best anim cross anyon look way relax get creativ miss',\n",
       " 'anim cross new horizon pure fun prove game still wait go build island meet colour assort anim call island home recommend start finish back',\n",
       " 'anim cross new horizon definit anim cross experi fan miss lot great addit make customiz game seri ever build home furnitur also chang entir island landscap everlast sourc thing',\n",
       " 'new horizon simpli best anim cross game date new featur expertli develop pace perfect whilst retain magic charm seri alway base upon latest grow line must switch titl',\n",
       " 'wait see futur hold issu may june p',\n",
       " 'anim cross new horizon bring laid back game seri ever nintendo switch put desert island chill fish catch bug decor']"
      ]
     },
     "execution_count": 16,
     "metadata": {},
     "output_type": "execute_result"
    }
   ],
   "source": [
    "text"
   ]
  },
  {
   "cell_type": "code",
   "execution_count": 17,
   "metadata": {},
   "outputs": [],
   "source": [
    "#Creating a TF-IDF Model\n",
    "from sklearn.feature_extraction.text import TfidfVectorizer\n",
    "tfidf=TfidfVectorizer(ngram_range=(1,2))"
   ]
  },
  {
   "cell_type": "code",
   "execution_count": 21,
   "metadata": {},
   "outputs": [
    {
     "data": {
      "text/plain": [
       "(107, 3547)"
      ]
     },
     "execution_count": 21,
     "metadata": {},
     "output_type": "execute_result"
    }
   ],
   "source": [
    "X=tfidf.fit_transform(text).toarray()\n",
    "X.shape"
   ]
  },
  {
   "cell_type": "code",
   "execution_count": 36,
   "metadata": {},
   "outputs": [
    {
     "data": {
      "text/plain": [
       "0      100\n",
       "1      100\n",
       "2      100\n",
       "3      100\n",
       "4      100\n",
       "      ... \n",
       "102     90\n",
       "103     90\n",
       "104     95\n",
       "105     90\n",
       "106     80\n",
       "Name: grade, Length: 107, dtype: int64"
      ]
     },
     "execution_count": 36,
     "metadata": {},
     "output_type": "execute_result"
    }
   ],
   "source": [
    "y=df['grade']\n",
    "y"
   ]
  },
  {
   "cell_type": "code",
   "execution_count": 24,
   "metadata": {},
   "outputs": [],
   "source": [
    "from sklearn.model_selection import train_test_split\n",
    "X_train, X_test, y_train, y_test = train_test_split(X, y, test_size=0.20, random_state=0)"
   ]
  },
  {
   "cell_type": "code",
   "execution_count": 25,
   "metadata": {},
   "outputs": [
    {
     "data": {
      "text/plain": [
       "['abil',\n",
       " 'abil play',\n",
       " 'abil remodel',\n",
       " 'abil shape',\n",
       " 'abl',\n",
       " 'abl experi',\n",
       " 'abl play',\n",
       " 'abl sit',\n",
       " 'abl spend',\n",
       " 'absolut',\n",
       " 'absolut addict',\n",
       " 'absolut awesom',\n",
       " 'absolut delight',\n",
       " 'absolut slam',\n",
       " 'ac',\n",
       " 'ac back',\n",
       " 'ac enrich',\n",
       " 'ac franchis',\n",
       " 'acceler',\n",
       " 'acceler skip']"
      ]
     },
     "execution_count": 25,
     "metadata": {},
     "output_type": "execute_result"
    }
   ],
   "source": [
    "tfidf.get_feature_names()[:20]"
   ]
  },
  {
   "cell_type": "code",
   "execution_count": 44,
   "metadata": {},
   "outputs": [
    {
     "data": {
      "text/plain": [
       "RandomForestRegressor(bootstrap=True, ccp_alpha=0.0, criterion='mse',\n",
       "                      max_depth=None, max_features='auto', max_leaf_nodes=None,\n",
       "                      max_samples=None, min_impurity_decrease=0.0,\n",
       "                      min_impurity_split=None, min_samples_leaf=1,\n",
       "                      min_samples_split=2, min_weight_fraction_leaf=0.0,\n",
       "                      n_estimators=100, n_jobs=None, oob_score=False,\n",
       "                      random_state=0, verbose=0, warm_start=False)"
      ]
     },
     "execution_count": 44,
     "metadata": {},
     "output_type": "execute_result"
    }
   ],
   "source": [
    "from sklearn.ensemble import RandomForestRegressor\n",
    "RR = RandomForestRegressor(random_state=0)\n",
    "RR.fit(X_train,y_train)"
   ]
  },
  {
   "cell_type": "code",
   "execution_count": 45,
   "metadata": {},
   "outputs": [
    {
     "data": {
      "text/plain": [
       "array([90.77, 90.61, 91.35, 89.93, 94.71, 89.69, 90.14, 92.87, 87.95,\n",
       "       89.59, 88.79, 87.91, 89.36, 89.39, 89.74, 89.19, 88.45, 96.22,\n",
       "       87.04, 91.29, 89.92, 91.74])"
      ]
     },
     "execution_count": 45,
     "metadata": {},
     "output_type": "execute_result"
    }
   ],
   "source": [
    "rslt = RR.predict(X_test)\n",
    "rslt"
   ]
  },
  {
   "cell_type": "code",
   "execution_count": null,
   "metadata": {},
   "outputs": [],
   "source": []
  }
 ],
 "metadata": {
  "kernelspec": {
   "display_name": "Python 3",
   "language": "python",
   "name": "python3"
  },
  "language_info": {
   "codemirror_mode": {
    "name": "ipython",
    "version": 3
   },
   "file_extension": ".py",
   "mimetype": "text/x-python",
   "name": "python",
   "nbconvert_exporter": "python",
   "pygments_lexer": "ipython3",
   "version": "3.7.6"
  }
 },
 "nbformat": 4,
 "nbformat_minor": 4
}
